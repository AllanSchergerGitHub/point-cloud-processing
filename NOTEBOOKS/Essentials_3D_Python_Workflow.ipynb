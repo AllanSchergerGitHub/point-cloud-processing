{
 "cells": [
  {
   "cell_type": "markdown",
   "id": "1341a9d1-80a7-4797-985f-75c75eb88755",
   "metadata": {},
   "source": [
    "Code Created by Florent Poux. \n",
    "This is part of a joint work with:\n",
    "* Prof. Sander Oude Elberink, \n",
    "* Prof. Mila Koeva, \n",
    "* Prof. Ville Lehtola, \n",
    "* Prof. Nourian Pirouz, \n",
    "* Prof. Paulo Raposo.\n",
    "\n",
    "Licence MIT, worked done with UTWENTE. Please refer to the article for the full comprehension.\n",
    "\n",
    "Members of the [ITC UTWENTE](https://www.itc.nl/) or students enrolled in a Program can use the code with privileged IP Rights. \n",
    "\n",
    "*   Have fun with this notebook that you can very simply run (ctrl+Enter) !\n",
    "*   Make sure to modify the paths to your dataset, either locally stored, on the CRIB, or in your Drive.\n",
    "*   You are free to reuse in your own project, please use the followinf reference if so: XXX\n",
    "\n",
    "For assistance:  [Linkedin](https://www.linkedin.com/in/florent-poux-point-cloud/), [Medium](https://medium.com/@florentpoux) or [Twitter](https://twitter.com/PouxPointCloud).\n",
    "\n",
    "Enjoy!"
   ]
  },
  {
   "cell_type": "markdown",
   "id": "06150e46-a027-49c0-9c5a-8a386fc5991d",
   "metadata": {},
   "source": [
    "# Step 3: Python Automation"
   ]
  },
  {
   "cell_type": "markdown",
   "id": "927239b6-522e-4e81-a71a-7dea24241a80",
   "metadata": {},
   "source": [
    "# 3.1. Importing libraries"
   ]
  },
  {
   "cell_type": "code",
   "execution_count": 2,
   "id": "f44e689b-0a14-41c1-a469-cf5b3c94c470",
   "metadata": {},
   "outputs": [
    {
     "name": "stdout",
     "output_type": "stream",
     "text": [
      "Open 3D Version: 0.16.0\n"
     ]
    }
   ],
   "source": [
    "import numpy as np\n",
    "import pandas as pd\n",
    "import open3d as o3d\n",
    "from shapely.geometry import Polygon\n",
    "\n",
    "print(f\"Open 3D Version: {o3d.__version__}\")"
   ]
  },
  {
   "cell_type": "markdown",
   "id": "be796cce-a6d2-4a76-bfd9-409905f69368",
   "metadata": {},
   "source": [
    "# 3.2. Loading 3D datasets"
   ]
  },
  {
   "cell_type": "markdown",
   "id": "04fdfbca-c823-4ed4-8f9b-bc645c1d916e",
   "metadata": {},
   "source": [
    "We define the specific paths to our dataset:"
   ]
  },
  {
   "cell_type": "code",
   "execution_count": 3,
   "id": "0a2e730c-7dd6-41d6-9239-f80f1e22837a",
   "metadata": {},
   "outputs": [],
   "source": [
    "data_folder=\"../DATA/\"\n",
    "pc_dataset=\"30HZ1_18_sampled.xyz\"\n",
    "mesh_dataset=\"NL.IMBAG.Pand.0637100000139735.obj\"\n",
    "result_folder=\"../DATA/RESULTS/\""
   ]
  },
  {
   "cell_type": "markdown",
   "id": "cd43f370-5abd-439a-92ac-d068046534ec",
   "metadata": {},
   "source": [
    "We can prepare the point cloud by first creating a Pandas DataFrame object called pcd_df, which will host the point cloud data:"
   ]
  },
  {
   "cell_type": "code",
   "execution_count": 5,
   "id": "a0a1a4b1-74d3-4c9f-bd68-a210c3b3e07b",
   "metadata": {},
   "outputs": [
    {
     "name": "stdout",
     "output_type": "stream",
     "text": [
      "Index(['X', 'Y', 'Z', 'R', 'G', 'B', 'Classification'], dtype='object')\n"
     ]
    }
   ],
   "source": [
    "pcd_df= pd.read_csv(data_folder+pc_dataset, delimiter=\";\")\n",
    "print(pcd_df.columns)"
   ]
  },
  {
   "cell_type": "markdown",
   "id": "e07e8097-c8e3-4ed7-8e72-ac45352cb067",
   "metadata": {},
   "source": [
    "Numpy to Open3D"
   ]
  },
  {
   "cell_type": "code",
   "execution_count": 9,
   "id": "13679727-1dac-4b89-bd3e-562167e39de0",
   "metadata": {},
   "outputs": [
    {
     "data": {
      "text/plain": [
       "PointCloud with 7103848 points."
      ]
     },
     "execution_count": 9,
     "metadata": {},
     "output_type": "execute_result"
    }
   ],
   "source": [
    "pcd_o3d=o3d.geometry.PointCloud(o3d.utility.Vector3dVector(np.array(pcd_df[['X','Y','Z']])))\n",
    "pcd_o3d.colors=o3d.utility.Vector3dVector(np.array(pcd_df[['R','G','B']])/255)\n",
    "pcd_o3d"
   ]
  },
  {
   "cell_type": "markdown",
   "id": "c0d57975-e5fb-41eb-9dc7-01482a2e019d",
   "metadata": {},
   "source": [
    "Loading the Mesh dataset"
   ]
  },
  {
   "cell_type": "code",
   "execution_count": 8,
   "id": "5368efa5-0994-472c-a3be-88ffb5312a99",
   "metadata": {},
   "outputs": [
    {
     "data": {
      "text/plain": [
       "TriangleMesh with 674 points and 488 triangles."
      ]
     },
     "execution_count": 8,
     "metadata": {},
     "output_type": "execute_result"
    }
   ],
   "source": [
    "mesh=o3d.io.read_triangle_mesh(data_folder+mesh_dataset)\n",
    "mesh.paint_uniform_color([0.9,0.9,0.9])"
   ]
  },
  {
   "cell_type": "markdown",
   "id": "544ce95e-aa79-44ce-9395-d8452624ccd4",
   "metadata": {},
   "source": [
    "# 3.3. Python 3D Visualization"
   ]
  },
  {
   "cell_type": "markdown",
   "id": "9b2d0afd-2f43-43df-9a25-fda9edd64a7b",
   "metadata": {},
   "source": [
    "To vizualise in Open3D in the specific viewer, all we have to do is to pass a python list of objects to visualize. Our list is thus composed of one Open3D PointCloud, and one Open3D TriangleMesh, which gives [pcd_o3d,mesh]. Let us visualize this combination in a standalone window with:"
   ]
  },
  {
   "cell_type": "code",
   "execution_count": null,
   "id": "ee4003ac-b22c-454c-a5ed-c15118415ba1",
   "metadata": {},
   "outputs": [],
   "source": [
    "pcd_o3d.estimate_normals()\n",
    "mesh.compute_vertex_normals()\n",
    "o3d.visualization.draw_geometries([pcd_o3d,mesh])"
   ]
  },
  {
   "cell_type": "markdown",
   "id": "aefc5ff4-d4ec-4faf-91d4-2da71e2a5363",
   "metadata": {},
   "source": [
    "Coloring based on classification.\n",
    "1=unclassified, 2=Ground, 6=building, 9=water, 26=rest"
   ]
  },
  {
   "cell_type": "code",
   "execution_count": 11,
   "id": "078a5fd2-a571-49e4-8b77-dc780660da48",
   "metadata": {},
   "outputs": [
    {
     "data": {
      "text/plain": [
       "array([ 2.,  1.,  9.,  6., 26.])"
      ]
     },
     "execution_count": 11,
     "metadata": {},
     "output_type": "execute_result"
    }
   ],
   "source": [
    "pcd_df['Classification'].unique()"
   ]
  },
  {
   "cell_type": "code",
   "execution_count": 99,
   "id": "f3433b54-a08f-4375-9063-cea6940bf307",
   "metadata": {},
   "outputs": [],
   "source": [
    "colors=np.zeros((len(pcd_df), 3))\n",
    "colors[pcd_df['Classification'] == 1] = [0.611, 0.8, 0.521]\n",
    "colors[pcd_df['Classification'] == 2] = [0.8, 0.670, 0.521]\n",
    "colors[pcd_df['Classification'] == 6] = [0.901, 0.419, 0.431]\n",
    "colors[pcd_df['Classification'] == 9] = [0.564, 0.850, 0.913]\n",
    "colors[pcd_df['Classification'] == 26] = [0.694, 0.662, 0.698]\n",
    "pcd_o3d.colors = o3d.utility.Vector3dVector(colors)"
   ]
  },
  {
   "cell_type": "markdown",
   "id": "a51fd5ba-de3d-43ba-9d39-16ae706578d3",
   "metadata": {},
   "source": [
    "# 4. 3D Python Challenges"
   ]
  },
  {
   "cell_type": "markdown",
   "id": "de19aa9d-d50b-4b65-af81-1d54ca1c6624",
   "metadata": {},
   "source": [
    "## Challenge 1: POI Query"
   ]
  },
  {
   "cell_type": "code",
   "execution_count": 20,
   "id": "d13078d9-a1a4-4dda-a95f-36c41e4980a2",
   "metadata": {},
   "outputs": [],
   "source": [
    "dist_POI=50\n",
    "POI=mesh.get_center()"
   ]
  },
  {
   "cell_type": "code",
   "execution_count": 21,
   "id": "004df6eb-e236-40a9-8236-d630d8206c07",
   "metadata": {},
   "outputs": [],
   "source": [
    "pcd_tree = o3d.geometry.KDTreeFlann(pcd_o3d)\n",
    "[k, idx, _] = pcd_tree.search_radius_vector_3d(POI, dist_POI)\n",
    "pcd_selection=pcd_o3d.select_by_index(idx)"
   ]
  },
  {
   "cell_type": "code",
   "execution_count": 22,
   "id": "362765e2-34bd-43c8-a2c1-de0a05077dbf",
   "metadata": {},
   "outputs": [],
   "source": [
    "o3d.visualization.draw_geometries([pcd_selection,mesh])"
   ]
  },
  {
   "cell_type": "markdown",
   "id": "c2120a66-d9ec-4ad5-b47b-b50a94b4b151",
   "metadata": {},
   "source": [
    "## Challenge 2: Parcel Surface"
   ]
  },
  {
   "cell_type": "code",
   "execution_count": 47,
   "id": "b5673d9f-1832-4b5c-afc9-26e5d7ed04ad",
   "metadata": {},
   "outputs": [
    {
     "name": "stdout",
     "output_type": "stream",
     "text": [
      "[Open3D INFO] Clearing all points from selection.\n",
      "[Open3D INFO] Adding point #34335 (92524.64, 451773.42, 16.09) to selection.\n",
      "[Open3D INFO] Adding point #979 (92446.08, 451792.49, -3.00) to selection.\n",
      "[Open3D INFO] Adding point #21544 (92454.49, 451813.17, 0.13) to selection.\n",
      "[Open3D INFO] Adding point #19666 (92482.95, 451816.16, -3.97) to selection.\n",
      "[Open3D INFO] Adding point #5924 (92471.29, 451819.53, -4.11) to selection.\n",
      "[Open3D INFO] Adding point #21816 (92469.87, 451813.78, 0.41) to selection.\n",
      "[Open3D INFO] Adding point #38008 (92526.86, 451802.96, 14.04) to selection.\n"
     ]
    }
   ],
   "source": [
    "o3d.visualization.draw_geometries_with_vertex_selection([pcd_selection])"
   ]
  },
  {
   "cell_type": "code",
   "execution_count": 51,
   "id": "f449b1a4-eb90-4bae-90e9-d89d503f3c28",
   "metadata": {},
   "outputs": [
    {
     "data": {
      "image/svg+xml": [
       "<svg xmlns=\"http://www.w3.org/2000/svg\" xmlns:xlink=\"http://www.w3.org/1999/xlink\" width=\"100.0\" height=\"100.0\" viewBox=\"92442.8518872044 451770.1938671844 87.24025635121507 52.566245121182874\" preserveAspectRatio=\"xMinYMin meet\"><g transform=\"matrix(1,0,0,-1,0,903592.95397949)\"><path fill-rule=\"evenodd\" fill=\"#ff3333\" stroke=\"#555555\" stroke-width=\"1.7448051270243012\" opacity=\"0.6\" d=\"M 92446.08300781,451792.49499512 L 92471.29400635,451819.5289917 L 92482.95300293,451816.1550293 L 92454.49301147,451813.16699219 L 92469.86898804,451813.77697754 L 92524.63897705,451773.42498779 L 92526.86102295,451802.95800781 L 92446.08300781,451792.49499512 z\" /></g></svg>"
      ],
      "text/plain": [
       "<POLYGON ((92446.083 451792.495, 92471.294 451819.529, 92482.953 451816.155,...>"
      ]
     },
     "execution_count": 51,
     "metadata": {},
     "output_type": "execute_result"
    }
   ],
   "source": [
    "o3d_parcel_corners=pcd_selection.select_by_index([34335 ,979 ,21544 ,19666 ,5924 ,21816 ,38008 ])\n",
    "o3d_parcel_corners=np.array(o3d_parcel_corners.points)[:,:2]\n",
    "Polygon(o3d_parcel_corners)"
   ]
  },
  {
   "cell_type": "code",
   "execution_count": 52,
   "id": "de4c81cb-4cd6-47e6-9142-75f7402077dc",
   "metadata": {},
   "outputs": [
    {
     "name": "stdout",
     "output_type": "stream",
     "text": [
      "This is the obtained parcel area: 43.58346441077549 m²\n"
     ]
    }
   ],
   "source": [
    "pgon = Polygon(o3d_parcel_corners)\n",
    "print(f\"This is the obtained parcel area: {pgon.area} m²\")"
   ]
  },
  {
   "cell_type": "code",
   "execution_count": 53,
   "id": "5ac4fdb3-33d7-42c5-bc05-0faf01fd1b12",
   "metadata": {},
   "outputs": [],
   "source": [
    "def sort_coordinates(XY):\n",
    "    cx, cy = XY.mean(0)\n",
    "    x, y = XY.T\n",
    "    angles = np.arctan2(x-cx, y-cy)\n",
    "    indices = np.argsort(-angles)\n",
    "    return XY[indices]"
   ]
  },
  {
   "cell_type": "code",
   "execution_count": 55,
   "id": "ec8e7504-1891-4fa5-b39f-73029786d02b",
   "metadata": {},
   "outputs": [
    {
     "data": {
      "image/svg+xml": [
       "<svg xmlns=\"http://www.w3.org/2000/svg\" xmlns:xlink=\"http://www.w3.org/1999/xlink\" width=\"100.0\" height=\"100.0\" viewBox=\"92442.8518872044 451770.1938671844 87.24025635121507 52.566245121182874\" preserveAspectRatio=\"xMinYMin meet\"><g transform=\"matrix(1,0,0,-1,0,903592.95397949)\"><path fill-rule=\"evenodd\" fill=\"#66cc99\" stroke=\"#555555\" stroke-width=\"1.7448051270243012\" opacity=\"0.6\" d=\"M 92524.63897705,451773.42498779 L 92526.86102295,451802.95800781 L 92482.95300293,451816.1550293 L 92471.29400635,451819.5289917 L 92469.86898804,451813.77697754 L 92454.49301147,451813.16699219 L 92446.08300781,451792.49499512 L 92524.63897705,451773.42498779 z\" /></g></svg>"
      ],
      "text/plain": [
       "<POLYGON ((92524.639 451773.425, 92526.861 451802.958, 92482.953 451816.155,...>"
      ]
     },
     "execution_count": 55,
     "metadata": {},
     "output_type": "execute_result"
    }
   ],
   "source": [
    "np_sorted_2D_corners=sort_coordinates(o3d_parcel_corners)\n",
    "pgon = Polygon(np_sorted_2D_corners)\n",
    "Polygon(np_sorted_2D_corners) "
   ]
  },
  {
   "cell_type": "code",
   "execution_count": 56,
   "id": "9a4b9aff-c367-458a-8f9b-68ead63c0280",
   "metadata": {},
   "outputs": [
    {
     "name": "stdout",
     "output_type": "stream",
     "text": [
      "This is the parcel area: 2247.1455670795513 m²\n"
     ]
    }
   ],
   "source": [
    "print(f\"This is the parcel area: {pgon.area} m²\")"
   ]
  },
  {
   "cell_type": "markdown",
   "id": "cd921423-903f-47ec-958d-75dbbf7c02ea",
   "metadata": {},
   "source": [
    "## Challenge 3: High and Low POI"
   ]
  },
  {
   "cell_type": "code",
   "execution_count": 58,
   "id": "0c12e2db-6459-4477-ab49-d1a8eb54a797",
   "metadata": {},
   "outputs": [
    {
     "name": "stdout",
     "output_type": "stream",
     "text": [
      "[9.25392340e+04 4.51844399e+05 2.68199997e+01]\n",
      "[ 9.24402720e+04  4.51747177e+05 -4.42799997e+00]\n"
     ]
    }
   ],
   "source": [
    "print(pcd_selection.get_max_bound())\n",
    "print(pcd_selection.get_min_bound())"
   ]
  },
  {
   "cell_type": "code",
   "execution_count": 59,
   "id": "7710bf55-ea0f-4740-b644-beded7c2e003",
   "metadata": {},
   "outputs": [],
   "source": [
    "np_pcd_selection=np.array(pcd_selection.points)\n",
    "lowest_point_index=np.argmin(np_pcd_selection[:,2])\n",
    "highest_point_index=np.argmax(np_pcd_selection[:,2])"
   ]
  },
  {
   "cell_type": "code",
   "execution_count": 62,
   "id": "2bbfe429-aae9-45b0-8481-fb71253bc6fe",
   "metadata": {},
   "outputs": [],
   "source": [
    "low_point=pcd_selection.points[lowest_point_index]\n",
    "high_point=pcd_selection.points[highest_point_index]\n",
    "\n",
    "o3d.visualization.draw_geometries([pcd_selection])"
   ]
  },
  {
   "cell_type": "code",
   "execution_count": 75,
   "id": "6969a6a0-7908-4c6b-9895-11a4302e4a42",
   "metadata": {},
   "outputs": [
    {
     "data": {
      "text/plain": [
       "TriangleMesh with 762 points and 1520 triangles."
      ]
     },
     "execution_count": 75,
     "metadata": {},
     "output_type": "execute_result"
    }
   ],
   "source": [
    "lp=o3d.geometry.TriangleMesh.create_sphere()\n",
    "hp=o3d.geometry.TriangleMesh.create_sphere()\n",
    "lp.translate(np_pcd_selection[lowest_point_index])\n",
    "hp.translate(np_pcd_selection[highest_point_index])"
   ]
  },
  {
   "cell_type": "code",
   "execution_count": 79,
   "id": "b182ec1c-2e45-42cd-b6a8-305ce49ccd74",
   "metadata": {},
   "outputs": [],
   "source": [
    "lp.compute_vertex_normals()\n",
    "lp.paint_uniform_color([0.8,0.1,0.1])\n",
    "hp.compute_vertex_normals()\n",
    "hp.paint_uniform_color([0.1,0.1,0.8])\n",
    "o3d.visualization.draw_geometries([pcd_selection,lp,hp])"
   ]
  },
  {
   "cell_type": "markdown",
   "id": "06920816-24b8-488d-bc1e-abccbbf82c74",
   "metadata": {},
   "source": [
    "## Point Cloud Voxelization"
   ]
  },
  {
   "cell_type": "markdown",
   "id": "7760825e-6aee-4ba7-a104-33092e4a81fe",
   "metadata": {},
   "source": [
    "Adapting the coloring scheme: RGB"
   ]
  },
  {
   "cell_type": "code",
   "execution_count": 98,
   "id": "9747a3c1-c224-4bdc-8935-c6b0b520344e",
   "metadata": {
    "collapsed": true,
    "jupyter": {
     "outputs_hidden": true
    },
    "tags": []
   },
   "outputs": [
    {
     "ename": "TypeError",
     "evalue": "select_by_index(): incompatible function arguments. The following argument types are supported:\n    1. (self: open3d.cpu.pybind.geometry.PointCloud, indices: List[int], invert: bool = False) -> open3d.cpu.pybind.geometry.PointCloud\n\nInvoked with: PointCloud with 7103848 points., 5801",
     "output_type": "error",
     "traceback": [
      "\u001b[1;31m---------------------------------------------------------------------------\u001b[0m",
      "\u001b[1;31mTypeError\u001b[0m                                 Traceback (most recent call last)",
      "Cell \u001b[1;32mIn[98], line 2\u001b[0m\n\u001b[0;32m      1\u001b[0m pcd_o3d\u001b[38;5;241m.\u001b[39mcolors\u001b[38;5;241m=\u001b[39mo3d\u001b[38;5;241m.\u001b[39mutility\u001b[38;5;241m.\u001b[39mVector3dVector(np\u001b[38;5;241m.\u001b[39marray(pcd_df[[\u001b[38;5;124m'\u001b[39m\u001b[38;5;124mR\u001b[39m\u001b[38;5;124m'\u001b[39m,\u001b[38;5;124m'\u001b[39m\u001b[38;5;124mG\u001b[39m\u001b[38;5;124m'\u001b[39m,\u001b[38;5;124m'\u001b[39m\u001b[38;5;124mB\u001b[39m\u001b[38;5;124m'\u001b[39m]])\u001b[38;5;241m/\u001b[39m\u001b[38;5;241m255\u001b[39m)\n\u001b[1;32m----> 2\u001b[0m pcd_selection\u001b[38;5;241m=\u001b[39m\u001b[43mpcd_o3d\u001b[49m\u001b[38;5;241;43m.\u001b[39;49m\u001b[43mselect_by_index\u001b[49m\u001b[43m(\u001b[49m\u001b[43midx\u001b[49m\u001b[43m)\u001b[49m\n\u001b[0;32m      3\u001b[0m dist_POI\u001b[38;5;241m=\u001b[39m\u001b[38;5;241m50\u001b[39m\n\u001b[0;32m      4\u001b[0m POI\u001b[38;5;241m=\u001b[39mmesh\u001b[38;5;241m.\u001b[39mget_center()\n",
      "\u001b[1;31mTypeError\u001b[0m: select_by_index(): incompatible function arguments. The following argument types are supported:\n    1. (self: open3d.cpu.pybind.geometry.PointCloud, indices: List[int], invert: bool = False) -> open3d.cpu.pybind.geometry.PointCloud\n\nInvoked with: PointCloud with 7103848 points., 5801"
     ]
    }
   ],
   "source": [
    "pcd_o3d.colors=o3d.utility.Vector3dVector(np.array(pcd_df[['R','G','B']])/255)\n",
    "pcd_selection=pcd_o3d.select_by_index(idx)\n",
    "dist_POI=50\n",
    "POI=mesh.get_center()\n",
    "pcd_tree = o3d.geometry.KDTreeFlann(pcd_o3d)\n",
    "[k, idx, _] = pcd_tree.search_radius_vector_3d(POI, dist_POI)\n",
    "pcd_selection=pcd_o3d.select_by_index(idx)"
   ]
  },
  {
   "cell_type": "markdown",
   "id": "376d5fbb-4719-4ad4-a3c2-a20d1176742d",
   "metadata": {},
   "source": [
    "Createing the voxel grid and visualizing"
   ]
  },
  {
   "cell_type": "code",
   "execution_count": 81,
   "id": "d2e117a5-d86a-42da-9150-c065061f6413",
   "metadata": {},
   "outputs": [],
   "source": [
    "voxel_grid = o3d.geometry.VoxelGrid.create_from_point_cloud(pcd_selection, voxel_size=2)\n",
    "o3d.visualization.draw_geometries([voxel_grid])"
   ]
  },
  {
   "cell_type": "markdown",
   "id": "80472425-339a-4f15-829e-b6d1f25b632a",
   "metadata": {},
   "source": [
    "Adapting the colouring scheme: Black and Red, and the selection with another POI if needed."
   ]
  },
  {
   "cell_type": "code",
   "execution_count": 82,
   "id": "133a6d53-4181-4535-bcdc-c9f107f7df39",
   "metadata": {},
   "outputs": [],
   "source": [
    "colors=np.zeros((len(pcd_df), 3))\n",
    "colors[pcd_df['Classification'] == 6] = [1, 0, 0]\n",
    "pcd_o3d.colors = o3d.utility.Vector3dVector(colors)\n",
    "dist_POI=50\n",
    "POI=mesh.get_center()\n",
    "pcd_tree = o3d.geometry.KDTreeFlann(pcd_o3d)\n",
    "[k, idx, _] = pcd_tree.search_radius_vector_3d(POI, dist_POI)\n",
    "pcd_selection=pcd_o3d.select_by_index(idx)"
   ]
  },
  {
   "cell_type": "code",
   "execution_count": 96,
   "id": "63e3db5a-c56c-4ca4-af41-a8d72ddf17f5",
   "metadata": {},
   "outputs": [],
   "source": [
    "voxel_grid = o3d.geometry.VoxelGrid.create_from_point_cloud(pcd_selection, voxel_size=2)\n",
    "o3d.visualization.draw_geometries([voxel_grid])"
   ]
  },
  {
   "cell_type": "code",
   "execution_count": 85,
   "id": "f1acef02-23ea-48de-8737-4e6bfc8b0cfb",
   "metadata": {},
   "outputs": [
    {
     "name": "stdout",
     "output_type": "stream",
     "text": [
      "[array([0, 0, 0]), array([49, 49, 16])]\n"
     ]
    }
   ],
   "source": [
    "idx_voxels=[v.grid_index for v in voxel_grid.get_voxels()]\n",
    "color_voxels=[v.color for v in voxel_grid.get_voxels()]\n",
    "bounds_voxels=[np.min(idx_voxels, axis=0),np.max(idx_voxels, axis=0)]\n",
    "print(bounds_voxels)"
   ]
  },
  {
   "cell_type": "markdown",
   "id": "d72b003b-9bcc-43a3-8a11-287a3e5142c4",
   "metadata": {},
   "source": [
    "## Challenge 4: Built Coverage"
   ]
  },
  {
   "cell_type": "code",
   "execution_count": 86,
   "id": "a9613f81-d344-474f-836e-99a17ca87c35",
   "metadata": {},
   "outputs": [],
   "source": [
    "max_voxel={}\n",
    "max_color={}"
   ]
  },
  {
   "cell_type": "code",
   "execution_count": 87,
   "id": "d69879d0-4d58-45a7-8532-2a562d08dcbe",
   "metadata": {},
   "outputs": [],
   "source": [
    "for idx, v in enumerate(idx_voxels):\n",
    "    if (v[0],v[1]) in max_voxel.keys():\n",
    "        if v[2]>max_voxel[(v[0],v[1])]:\n",
    "            max_voxel[(v[0],v[1])]=v[2]\n",
    "            max_color[(v[0],v[1])]=color_voxels[idx]\n",
    "    else:\n",
    "        max_voxel[(v[0],v[1])]=v[2]\n",
    "        max_color[(v[0],v[1])]=color_voxels[idx]"
   ]
  },
  {
   "cell_type": "code",
   "execution_count": 88,
   "id": "2124949b-83eb-4745-bd39-4586db6a8e7d",
   "metadata": {},
   "outputs": [],
   "source": [
    "count_building_coverage,count_non_building=0,0\n",
    "for col in list(max_color.values()):\n",
    "    if np.all(col==0):\n",
    "        count_non_building+=1\n",
    "    else:\n",
    "        count_building_coverage+=1"
   ]
  },
  {
   "cell_type": "code",
   "execution_count": 94,
   "id": "2c01e5b4-6582-49e3-83e9-41c8af817bfc",
   "metadata": {},
   "outputs": [
    {
     "name": "stdout",
     "output_type": "stream",
     "text": [
      "Coverage of Buildings: 1352 m²\n",
      "Coverage of the Rest: 6456 m²\n",
      "Built Ratio: 0.17315573770491804 m²\n"
     ]
    }
   ],
   "source": [
    "print(f\"Coverage of Buildings: {count_building_coverage*4} m²\")   \n",
    "print(f\"Coverage of the Rest: {count_non_building*4} m²\")\n",
    "print(f\"Built Ratio: {(count_building_coverage*4)/(count_building_coverage*4+count_non_building*4)} m²\") "
   ]
  },
  {
   "cell_type": "markdown",
   "id": "4be6c0c3-4a64-4a58-83d3-5122868b937f",
   "metadata": {},
   "source": [
    "# 5. Data Export"
   ]
  },
  {
   "cell_type": "code",
   "execution_count": null,
   "id": "689d9b99-ef76-4822-bb24-bd09db00d9cd",
   "metadata": {},
   "outputs": [],
   "source": [
    "#Exporting the selection\n",
    "o3d.io.write_point_cloud(result_folder+pc_dataset.split(\".\")[0]+\"_result_filtered_o3d.ply\", pcd_selection, write_ascii=False, compressed=False, print_progress=False)"
   ]
  },
  {
   "cell_type": "code",
   "execution_count": null,
   "id": "ebe52066-16f8-4186-ad4a-fd0c7c446c49",
   "metadata": {},
   "outputs": [],
   "source": [
    "#Exporting the Parcel Area\n",
    "np.savetxt(result_folder+pc_dataset.split(\".\")[0]+\"_selection.xyz\", np.asarray(o3d_parcel_corners),delimiter=';', fmt='%1.9f')"
   ]
  }
 ],
 "metadata": {
  "kernelspec": {
   "display_name": "Python 3 (ipykernel)",
   "language": "python",
   "name": "python3"
  },
  "language_info": {
   "codemirror_mode": {
    "name": "ipython",
    "version": 3
   },
   "file_extension": ".py",
   "mimetype": "text/x-python",
   "name": "python",
   "nbconvert_exporter": "python",
   "pygments_lexer": "ipython3",
   "version": "3.9.16"
  }
 },
 "nbformat": 4,
 "nbformat_minor": 5
}
