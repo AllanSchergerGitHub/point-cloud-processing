{
  "nbformat": 4,
  "nbformat_minor": 0,
  "metadata": {
    "colab": {
      "name": "3D_Point_Cloud_Clustering_Tutorial_with_K-means_and_Python.ipynb",
      "provenance": [],
      "collapsed_sections": [],
      "authorship_tag": "ABX9TyPt8ELAw56qaAJ/2rV4ADYE",
      "include_colab_link": true
    },
    "kernelspec": {
      "display_name": "Python 3",
      "name": "python3"
    }
  },
  "cells": [
    {
      "cell_type": "markdown",
      "metadata": {
        "id": "view-in-github",
        "colab_type": "text"
      },
      "source": [
        "<a href=\"https://colab.research.google.com/github/florentPoux/point-cloud-processing/blob/main/3D_Point_Cloud_Clustering_Tutorial_with_K_means_and_Python.ipynb\" target=\"_parent\"><img src=\"https://colab.research.google.com/assets/colab-badge.svg\" alt=\"Open In Colab\"/></a>"
      ]
    },
    {
      "cell_type": "markdown",
      "metadata": {
        "id": "ESHGw_Kudkf4"
      },
      "source": [
        "Created by Florent Poux. Licence MIT\n",
        "\n",
        "*   To reuse in your project, please cite the article accessible here: \n",
        "[To Medium Article](https://towardsdatascience.com/3d-point-cloud-clustering-tutorial-with-k-means-and-python-c870089f3af8)\n",
        "*   Have fun with this notebook that you can very simply run (ctrl+Enter) !\n",
        "*   The first time thought, it will ask you to get a key for it to be able to acces your Google drive folders if you want to work all remotely.\n",
        "*   Simply accept, and then change the input path by the folder path containing your data, on Google Drive.\n",
        "\n",
        "Enjoy!"
      ]
    },
    {
      "cell_type": "markdown",
      "metadata": {
        "id": "TLxlwD5AdI57"
      },
      "source": [
        "# Step 1: Setting up the environment"
      ]
    },
    {
      "cell_type": "code",
      "metadata": {
        "colab": {
          "base_uri": "https://localhost:8080/"
        },
        "id": "uPeCFjmItybl",
        "outputId": "c2779b14-ccba-48d1-fb45-f25b120ecb9d"
      },
      "source": [
        "#This code snippet allows to use data directly from your Google drives files.\n",
        "#If you want to use a shared folder, just add the folder to your drive\n",
        "from google.colab import drive\n",
        "drive.mount('/content/gdrive')"
      ],
      "execution_count": null,
      "outputs": [
        {
          "output_type": "stream",
          "text": [
            "Mounted at /content/gdrive\n"
          ],
          "name": "stdout"
        }
      ]
    },
    {
      "cell_type": "markdown",
      "metadata": {
        "id": "wDQayYrmfMKi"
      },
      "source": [
        "# Step 2: Setting up our 3D python context"
      ]
    },
    {
      "cell_type": "code",
      "metadata": {
        "id": "Uzrw-UieNDPt"
      },
      "source": [
        "import numpy as np\n",
        "import matplotlib.pyplot as plt\n",
        "from mpl_toolkits import mplot3d\n",
        "from sklearn.cluster import KMeans\n",
        "from sklearn.cluster import DBSCAN"
      ],
      "execution_count": null,
      "outputs": []
    },
    {
      "cell_type": "code",
      "metadata": {
        "id": "uCPkhRyEe9UM"
      },
      "source": [
        "#create paths and load data\n",
        "data_folder=\"gdrive/My Drive/10-MEDIUM/DATA/Point Cloud Sample/\"\n",
        "result_folder=\"gdrive/My Drive/10-MEDIUM/DATA/Point Cloud Sample/\"\n",
        "\n",
        "#Load the file\n",
        "dataset=\"KME_planes.xyz\"\n",
        "\n",
        "#store features in x,y,z,illuminance,reflectance,intensity and nb_of_returns variable\n",
        "x,y,z,illuminance,reflectance,intensity,nb_of_returns = np.loadtxt(data_folder+dataset,skiprows=1, delimiter=';', unpack=True"
      ],
      "execution_count": null,
      "outputs": []
    },
    {
      "cell_type": "markdown",
      "metadata": {
        "id": "7WY2eB86-VmB"
      },
      "source": [
        "# Step 3: Point Cloud quick selection"
      ]
    },
    {
      "cell_type": "code",
      "metadata": {
        "id": "UujI3GDigtvv"
      },
      "source": [
        "plt.subplot(1, 2, 1) # row 1, col 2 index 1\n",
        "plt.scatter(x, z, c=intensity, s=0.05)\n",
        "plt.axhline(y=np.mean(z), color='r', linestyle='-')\n",
        "plt.title(\"First view\")\n",
        "plt.xlabel('X-axis ')\n",
        "plt.ylabel('Z-axis ')\n",
        "\n",
        "plt.subplot(1, 2, 2) # index 2\n",
        "plt.scatter(y, z, c=intensity, s=0.05)\n",
        "plt.axhline(y=np.mean(z), color='r', linestyle='-')\n",
        "plt.title(\"Second view\")\n",
        "plt.xlabel('Y-axis ')\n",
        "plt.ylabel('Z-axis ')\n",
        "\n",
        "plt.show()"
      ],
      "execution_count": null,
      "outputs": []
    },
    {
      "cell_type": "markdown",
      "source": [
        "# Step 4: Point Cloud Filtering"
      ],
      "metadata": {
        "id": "1m5zg36nVQyA"
      }
    },
    {
      "cell_type": "code",
      "metadata": {
        "id": "UnEK2LeEhDCa"
      },
      "source": [
        "pcd=np.column_stack((x,y,z))\n",
        "mask=z>np.mean(z)\n",
        "spatial_query=pcd[z>np.mean(z)]"
      ],
      "execution_count": null,
      "outputs": []
    },
    {
      "cell_type": "code",
      "metadata": {
        "id": "xpqWrCepi4rx"
      },
      "source": [
        "#plotting the results 3D\n",
        "ax = plt.axes(projection='3d')\n",
        "ax.scatter(x[mask], y[mask], z[mask], c = intensity[mask], s=0.1)\n",
        "plt.show()"
      ],
      "execution_count": null,
      "outputs": []
    },
    {
      "cell_type": "code",
      "metadata": {
        "id": "37aL9Tu7htt6"
      },
      "source": [
        "#plotting the results 2D\n",
        "plt.scatter(x[mask], y[mask], c=intensity[mask], s=0.1)\n",
        "plt.show()"
      ],
      "execution_count": null,
      "outputs": []
    },
    {
      "cell_type": "markdown",
      "source": [
        "# Step 5: K-Means Clustering"
      ],
      "metadata": {
        "id": "KMvE_qu2VquZ"
      }
    },
    {
      "cell_type": "code",
      "metadata": {
        "id": "YUPHjpPEdumr"
      },
      "source": [
        "X=np.column_stack((x[mask], y[mask]))\n",
        "kmeans = KMeans(n_clusters=2).fit(X)\n",
        "plt.scatter(x[mask], y[mask], c=kmeans.labels_, s=0.1)\n",
        "plt.show()"
      ],
      "execution_count": null,
      "outputs": []
    },
    {
      "cell_type": "code",
      "metadata": {
        "id": "QWWvDleegVF5"
      },
      "source": [
        "X=np.column_stack((x[mask], y[mask], z[mask]))\n",
        "wcss = [] \n",
        "for i in range(1, 20):\n",
        " kmeans = KMeans(n_clusters = i, init = 'k-means++', random_state = 42)\n",
        " kmeans.fit(X)\n",
        " wcss.append(kmeans.inertia_)"
      ],
      "execution_count": null,
      "outputs": []
    },
    {
      "cell_type": "code",
      "metadata": {
        "id": "Ozy04t0EdtGS"
      },
      "source": [
        "#plot Elbow method\n",
        "plt.plot(range(1, 20), wcss)\n",
        "plt.xlabel('Number of clusters')\n",
        "plt.ylabel('WCSS') \n",
        "plt.show()"
      ],
      "execution_count": null,
      "outputs": []
    },
    {
      "cell_type": "code",
      "metadata": {
        "id": "9WyNiqwZDgyX"
      },
      "source": [
        "#playing with the features\n",
        "X=np.column_stack((x[mask], y[mask], z[mask], illuminance[mask], nb_of_returns[mask], intensity[mask]))\n",
        "kmeans = KMeans(n_clusters=3, random_state=0).fit(X)\n",
        "plt.scatter(x[mask], y[mask], c=kmeans.labels_, s=0.1)\n",
        "plt.show()"
      ],
      "execution_count": null,
      "outputs": []
    },
    {
      "cell_type": "code",
      "metadata": {
        "id": "0UpTvuxvX0-k"
      },
      "source": [
        "np.savetxt(result_folder+dataset.split(\".\")[0]+\"_result.xyz\", np.column_stack((x[mask], y[mask], z[mask],kmeans.labels_)), fmt='%1.4f', delimiter=';')"
      ],
      "execution_count": null,
      "outputs": []
    }
  ]
}
